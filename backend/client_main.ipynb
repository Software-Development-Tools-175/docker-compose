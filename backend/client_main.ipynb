{
 "cells": [
  {
   "cell_type": "code",
   "execution_count": 7,
   "metadata": {},
   "outputs": [
    {
     "ename": "KeyError",
     "evalue": "'processed_image'",
     "output_type": "error",
     "traceback": [
      "\u001b[1;31m---------------------------------------------------------------------------\u001b[0m",
      "\u001b[1;31mKeyError\u001b[0m                                  Traceback (most recent call last)",
      "Cell \u001b[1;32mIn[7], line 41\u001b[0m\n\u001b[0;32m     38\u001b[0m response \u001b[39m=\u001b[39m requests\u001b[39m.\u001b[39mpost(\u001b[39mf\u001b[39m\u001b[39m\"\u001b[39m\u001b[39m{\u001b[39;00murl\u001b[39m}\u001b[39;00m\u001b[39m/process-image\u001b[39m\u001b[39m\"\u001b[39m, json\u001b[39m=\u001b[39mpayload)\n\u001b[0;32m     39\u001b[0m data \u001b[39m=\u001b[39m json\u001b[39m.\u001b[39mloads(response\u001b[39m.\u001b[39mcontent)\n\u001b[1;32m---> 41\u001b[0m processed_image_string \u001b[39m=\u001b[39m data[\u001b[39m\"\u001b[39;49m\u001b[39mprocessed_image\u001b[39;49m\u001b[39m\"\u001b[39;49m]\n\u001b[0;32m     42\u001b[0m processed_image        \u001b[39m=\u001b[39m decode_image(processed_image_string)\n",
      "\u001b[1;31mKeyError\u001b[0m: 'processed_image'"
     ]
    }
   ],
   "source": [
    "import requests\n",
    "import base64\n",
    "import matplotlib.pyplot as plt\n",
    "import numpy as np\n",
    "import cv2\n",
    "import json\n",
    "\n",
    "\n",
    "# encode image as base64 string\n",
    "def encode_image(image):\n",
    "    _, encoded_image = cv2.imencode(\".jpg\", image)\n",
    "    return \"data:image/jpeg;base64,\" + base64.b64encode(encoded_image).decode()\n",
    "\n",
    "# decode base64 string to image\n",
    "def decode_image(image_string):\n",
    "    encoded_data = image_string.split(',')[1]\n",
    "    nparr = np.frombuffer(base64.b64decode(encoded_data), np.uint8)\n",
    "    return cv2.imdecode(nparr, cv2.IMREAD_COLOR)\n",
    "\n",
    "\n",
    "\n",
    "image_file = 'cat.jpg'\n",
    "url        = \"http://54.82.234.201:8088\"\n",
    "\n",
    "\n",
    "# Load the image\n",
    "image        = cv2.imread(image_file)\n",
    "image        = cv2.cvtColor(image, cv2.COLOR_BGR2RGB)\n",
    "image_string = encode_image(image)\n",
    "\n",
    "payload = {\n",
    "    \"image\": image_string,\n",
    "    \"name\": \"John\",\n",
    "    \"surname\": \"Doe\",\n",
    "    \"numbers\": [1, 2, 3, 4, 5]\n",
    "}\n",
    "\n",
    "response = requests.post(f\"{url}/process-image\", json=payload)\n",
    "data = json.loads(response.content)\n",
    "\n",
    "processed_image_string = data[\"processed_image\"]\n",
    "processed_image        = decode_image(processed_image_string)\n"
   ]
  },
  {
   "cell_type": "code",
   "execution_count": null,
   "metadata": {},
   "outputs": [],
   "source": [
    "# Create a figure and set the title\n",
    "fig = plt.figure(figsize=(12, 4))\n",
    "fig.suptitle('Comparison of Images')\n",
    "\n",
    "# Add the first image to the left subplot\n",
    "ax1 = fig.add_subplot(1, 2, 1)\n",
    "ax1.imshow(image)\n",
    "ax1.set_title('Original image')\n",
    "\n",
    "# Add the second image to the right subplot\n",
    "ax2 = fig.add_subplot(1, 2, 2)\n",
    "ax2.imshow(processed_image)\n",
    "ax2.set_title('Processed image')\n",
    "\n",
    "# Show the plot\n",
    "plt.show()"
   ]
  }
 ],
 "metadata": {
  "kernelspec": {
   "display_name": ".venv",
   "language": "python",
   "name": "python3"
  },
  "language_info": {
   "codemirror_mode": {
    "name": "ipython",
    "version": 3
   },
   "file_extension": ".py",
   "mimetype": "text/x-python",
   "name": "python",
   "nbconvert_exporter": "python",
   "pygments_lexer": "ipython3",
   "version": "3.10.1"
  },
  "orig_nbformat": 4
 },
 "nbformat": 4,
 "nbformat_minor": 2
}
